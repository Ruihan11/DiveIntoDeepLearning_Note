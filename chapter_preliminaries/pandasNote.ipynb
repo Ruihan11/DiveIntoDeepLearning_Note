{
 "cells": [
  {
   "cell_type": "markdown",
   "id": "f22dc9fe",
   "metadata": {},
   "source": [
    "### os.path.join(path): \n",
    "- returns a string which represents the concatenated path components. "
   ]
  },
  {
   "cell_type": "code",
   "execution_count": 2,
   "id": "9c57e8e2",
   "metadata": {},
   "outputs": [],
   "source": [
    "import os\n",
    "# make directory: .. previous folder/data dir\n",
    "#exist_ok (optional) : A default value False is used for this parameter. \n",
    "#                      If the target directory already exists an OSError is raised \n",
    "#                      if its value is False otherwise not. \n",
    "#                      For value True leaves directory unaltered. \n",
    "os.makedirs(os.path.join('..', 'data'), exist_ok=True)\n",
    "data_file = os.path.join('..', 'data', 'house_tiny.csv')\n",
    "with open(data_file, 'w') as f:\n",
    "    f.write('name,sex,weight(kg),height(cm),whatEverGrading\\n')  # 列名\n",
    "    f.write('Dave,Dude,50,150,5\\n')  # 每行表示一个数据样本\n",
    "    f.write('Fave,not Dude,60,160,10\\n')\n",
    "    f.write('Cave,Dude,70,170,5\\n')\n",
    "    f.write('Nave,NA,NA,180,6\\n')"
   ]
  },
  {
   "cell_type": "code",
   "execution_count": 3,
   "id": "dfe74e80",
   "metadata": {},
   "outputs": [
    {
     "name": "stdout",
     "output_type": "stream",
     "text": [
      "   name       sex  weight(kg)  height(cm)  whatEverGrading\n",
      "0  Dave      Dude        50.0         150                5\n",
      "1  Fave  not Dude        60.0         160               10\n",
      "2  Cave      Dude        70.0         170                5\n",
      "3  Nave       NaN         NaN         180                6\n"
     ]
    }
   ],
   "source": [
    "import pandas as pd\n",
    "\n",
    "data = pd.read_csv(data_file)\n",
    "print(data)"
   ]
  },
  {
   "cell_type": "code",
   "execution_count": 4,
   "id": "ba0cfde0",
   "metadata": {
    "scrolled": true
   },
   "outputs": [
    {
     "data": {
      "text/plain": [
       "(        sex  weight(kg)  height(cm)\n",
       " 0      Dude        50.0         150\n",
       " 1  not Dude        60.0         160\n",
       " 2      Dude        70.0         170\n",
       " 3       NaN         NaN         180,\n",
       " 0     5\n",
       " 1    10\n",
       " 2     5\n",
       " 3     6\n",
       " Name: whatEverGrading, dtype: int64)"
      ]
     },
     "execution_count": 4,
     "metadata": {},
     "output_type": "execute_result"
    }
   ],
   "source": [
    "inputs, outputs = data.iloc[:, 1:4], data.iloc[:, -1]\n",
    "inputs, outputs"
   ]
  },
  {
   "cell_type": "markdown",
   "id": "fe22834d",
   "metadata": {},
   "source": [
    "- use mean to fill NAN"
   ]
  },
  {
   "cell_type": "code",
   "execution_count": 43,
   "id": "13d68c3b",
   "metadata": {
    "scrolled": true
   },
   "outputs": [
    {
     "name": "stdout",
     "output_type": "stream",
     "text": [
      "        sex  weight(kg)  height(cm)\n",
      "0      Dude        50.0         150\n",
      "1  not Dude        60.0         160\n",
      "2      Dude        70.0         170\n",
      "3       NaN        60.0         180\n"
     ]
    }
   ],
   "source": [
    "inputs = inputs.fillna(inputs.mean())\n",
    "print(inputs)"
   ]
  },
  {
   "cell_type": "markdown",
   "id": "7b702fa8",
   "metadata": {},
   "source": [
    "- use dummy_na to further divide the list"
   ]
  },
  {
   "cell_type": "code",
   "execution_count": 44,
   "id": "03cbee30",
   "metadata": {},
   "outputs": [
    {
     "name": "stdout",
     "output_type": "stream",
     "text": [
      "   weight(kg)  height(cm)  sex_Dude  sex_not Dude  sex_nan\n",
      "0        50.0         150         1             0        0\n",
      "1        60.0         160         0             1        0\n",
      "2        70.0         170         1             0        0\n",
      "3        60.0         180         0             0        1\n"
     ]
    }
   ],
   "source": [
    "inputs = pd.get_dummies(inputs, dummy_na=True)\n",
    "print(inputs)"
   ]
  },
  {
   "cell_type": "code",
   "execution_count": 45,
   "id": "4eb4f98a",
   "metadata": {},
   "outputs": [
    {
     "data": {
      "text/plain": [
       "(tensor([[ 50., 150.,   1.,   0.,   0.],\n",
       "         [ 60., 160.,   0.,   1.,   0.],\n",
       "         [ 70., 170.,   1.,   0.,   0.],\n",
       "         [ 60., 180.,   0.,   0.,   1.]], dtype=torch.float64),\n",
       " tensor([ 5, 10,  5,  6]))"
      ]
     },
     "execution_count": 45,
     "metadata": {},
     "output_type": "execute_result"
    }
   ],
   "source": [
    "import torch\n",
    "\n",
    "X, y = torch.tensor(inputs.values), torch.tensor(outputs.values)\n",
    "X, y"
   ]
  }
 ],
 "metadata": {
  "kernelspec": {
   "display_name": "Python 3 (ipykernel)",
   "language": "python",
   "name": "python3"
  },
  "language_info": {
   "codemirror_mode": {
    "name": "ipython",
    "version": 3
   },
   "file_extension": ".py",
   "mimetype": "text/x-python",
   "name": "python",
   "nbconvert_exporter": "python",
   "pygments_lexer": "ipython3",
   "version": "3.9.18"
  }
 },
 "nbformat": 4,
 "nbformat_minor": 5
}
